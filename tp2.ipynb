{
 "cells": [
  {
   "cell_type": "code",
   "execution_count": 11,
   "metadata": {
    "collapsed": false
   },
   "outputs": [],
   "source": [
    "import numpy as np\n",
    "from collections import namedtuple\n",
    "from scipy.optimize import minimize_scalar"
   ]
  },
  {
   "cell_type": "code",
   "execution_count": 12,
   "metadata": {
    "collapsed": false
   },
   "outputs": [],
   "source": [
    "class MinAlgorithm:\n",
    "    \n",
    "    def __init__(self, f, grad=None, hess=None):\n",
    "        self.func = f\n",
    "        self.grad = grad\n",
    "        self.hess = hess\n",
    "        self.comp_grad = None\n",
    "        self.comp_hess = None\n",
    "        \n",
    "    def minimize(self, starting_point, params):\n",
    "        raise NotImplementedError()\n",
    "        \n",
    "default_params = [\"MaxNumIter\", \"tolGrad\", \"tolIter\", \"gradHess\", \"alpha\", \"beta\", \"theta\"]\n",
    "p = dict(zip(default_params, len(default_params) * [None]))\n",
    "p[\"MaxNumIter\"] = 1000\n",
    "p[\"tolGrad\"] = 10e-5\n",
    "p[\"tolIter\"] = 10e-5"
   ]
  },
  {
   "cell_type": "code",
   "execution_count": 24,
   "metadata": {
    "collapsed": true
   },
   "outputs": [],
   "source": [
    "class SteepestDescent(MinAlgorithm):\n",
    "    \n",
    "    def set_line_search(self, name):\n",
    "        if name == \"fminsearch\":\n",
    "            self.line_search = lambda f: minimize_scalar(f, method=\"brent\")\n",
    "        elif name == \"paso_limitado\":\n",
    "            self.line_search = None\n",
    "        elif name == \"orden_cero\":\n",
    "            self.line_search = None\n",
    "        elif name == \"armijo\":\n",
    "            self.line_search = None\n",
    "        else:\n",
    "            raise Exception(\"El metodo de busqueda {} no existe\".format(name))\n",
    "            \n",
    "    def line_minimize(self, g):\n",
    "        res = self.line_search(g)\n",
    "        return res.x\n",
    "        \n",
    "    def minimize(self, starting_point, params):\n",
    "        assert getattr(self, \"line_search\", None)\n",
    "        point, old_point = starting_point, starting_point + 1\n",
    "        steps = 0\n",
    "        d = -self.grad(point)\n",
    "        result = 100\n",
    "        while steps < params[\"MaxNumIter\"] and result > params[\"tolGrad\"]\\\n",
    "                    and np.linalg.norm(point - old_point) > params[\"tolIter\"]:\n",
    "            steps += 1\n",
    "            phi = lambda alpha: self.func((point + alpha * d).flatten())\n",
    "            min_alpha = self.line_minimize(phi)\n",
    "            old_point = point\n",
    "            point += min_alpha * d\n",
    "            d = -self.grad(point)\n",
    "            result = np.linalg.norm(d)\n",
    "        return point"
   ]
  },
  {
   "cell_type": "code",
   "execution_count": 25,
   "metadata": {
    "collapsed": false
   },
   "outputs": [
    {
     "name": "stdout",
     "output_type": "stream",
     "text": [
      "[0 0]\n"
     ]
    },
    {
     "name": "stderr",
     "output_type": "stream",
     "text": [
      "/usr/local/lib/python2.7/dist-packages/ipykernel/__main__.py:30: DeprecationWarning: Implicitly casting between incompatible kinds. In a future numpy release, this will raise an error. Use casting=\"unsafe\" if this is intentional.\n"
     ]
    }
   ],
   "source": [
    "f = lambda v: v[0] ** 2 + v[1] ** 2\n",
    "grad_f = lambda v: np.array([2 * v[0], 2 * v[1]])\n",
    "minimizer_alg = SteepestDescent(f, grad_f)\n",
    "minimizer_alg.set_line_search(\"fminsearch\")\n",
    "print minimizer_alg.minimize(np.array([2, 3]), p)"
   ]
  },
  {
   "cell_type": "code",
   "execution_count": 26,
   "metadata": {
    "collapsed": false
   },
   "outputs": [
    {
     "name": "stdout",
     "output_type": "stream",
     "text": [
      "[1 2]\n"
     ]
    },
    {
     "name": "stderr",
     "output_type": "stream",
     "text": [
      "/usr/local/lib/python2.7/dist-packages/ipykernel/__main__.py:30: DeprecationWarning: Implicitly casting between incompatible kinds. In a future numpy release, this will raise an error. Use casting=\"unsafe\" if this is intentional.\n"
     ]
    }
   ],
   "source": [
    "f = lambda v: np.sum(np.array([(v[0] + 2 * v[1] - 7) ** 2, (2 * v[0] + v[1] - 5) ** 2]))\n",
    "grad_f = lambda v: np.array([2 * (v[0] + 2 * v[1] - 7) + 4 * (2 * v[0] + v[1] - 5), 4 * (v[0] + 2 * v[1] - 7) + 2 * (2 * v[0] + v[1] - 5)])\n",
    "minimizer_alg = SteepestDescent(f, grad_f)\n",
    "minimizer_alg.set_line_search(\"fminsearch\")\n",
    "print minimizer_alg.minimize(np.array([2, 3]), p)"
   ]
  },
  {
   "cell_type": "code",
   "execution_count": null,
   "metadata": {
    "collapsed": true
   },
   "outputs": [],
   "source": []
  }
 ],
 "metadata": {
  "kernelspec": {
   "display_name": "Python 2",
   "language": "python",
   "name": "python2"
  },
  "language_info": {
   "codemirror_mode": {
    "name": "ipython",
    "version": 2
   },
   "file_extension": ".py",
   "mimetype": "text/x-python",
   "name": "python",
   "nbconvert_exporter": "python",
   "pygments_lexer": "ipython2",
   "version": "2.7.6"
  }
 },
 "nbformat": 4,
 "nbformat_minor": 2
}
