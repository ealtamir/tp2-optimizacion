{
 "cells": [
  {
   "cell_type": "code",
   "execution_count": 72,
   "metadata": {
    "collapsed": false
   },
   "outputs": [],
   "source": [
    "import numpy as np\n",
    "from collections import namedtuple\n",
    "from scipy.optimize import minimize_scalar\n",
    "from scipy.linalg import solve_triangular\n",
    "import numdifftools as ndt\n",
    "from datetime import datetime as dt\n",
    "from collections import namedtuple"
   ]
  },
  {
   "cell_type": "code",
   "execution_count": 70,
   "metadata": {
    "collapsed": false
   },
   "outputs": [],
   "source": [
    "# paraboloid, booth, rosenbrock, beales, matyas, ackleys\n",
    "Pair = namedtuple('FPair', ['f', 'min_val', 'dim'])\n",
    "functions = {\n",
    "    'paraboloid': Pair(lambda v: v[0] ** 2 + v[1] ** 2, 0, 2),\n",
    "    'booth': Pair(lambda v: np.sum(np.array([(v[0] + 2 * v[1] - 7) ** 2, (2 * v[0] + v[1] - 5) ** 2])), 0, 2),\n",
    "    'rosenbrock': Pair(lambda v: np.sum([(1 - v[1]) ** 2, 100 * (v[0] - v[1] * v[1]) ** 2]), 0, 2),\n",
    "    'beales': Pair(lambda v: np.sum([(1.5 - v[0] + v[0] * v[1]) ** 2, (2.25 - v[0] + v[0] * v[1] ** 2) ** 2, (2.625 - v[0] + v[0] * v[1] ** 3) ** 2]), 0, 2),\n",
    "    'matyas': Pair(lambda v: np.sum([.26 * (v[0] ** 2 + v[1] ** 2),  - .48 * v[0] * v[1]]), 0, 2),\n",
    "    'ackleys': Pair(lambda v: np.sum([-20 * np.exp(-.2 * np.sqrt(.5 * v[0] ** 2 + v[1] ** 2)), - np.exp(.5 * (np.cos(2 * np.pi * v[0]) + np.cos(2 * np.pi * v[0]))), np.e, 20]), 0, 2),\n",
    "    'easom': Pair(lambda v: (-np.cos(v[0]) * np.cos(v[1]) * np.exp(-((v[0] - np.pi) ** 2 + (v[1] - np.pi) ** 2))), -1, 2),\n",
    "    ''\n",
    "}"
   ]
  },
  {
   "cell_type": "code",
   "execution_count": 71,
   "metadata": {
    "collapsed": true
   },
   "outputs": [],
   "source": [
    "default_params = [\"MaxNumIter\", \"tolGrad\", \"tolIter\", \"gradHess\", \"alpha\", \"beta\", \"theta\"]\n",
    "p = dict(zip(default_params, len(default_params) * [None]))\n",
    "p[\"MaxNumIter\"] = 1000\n",
    "p[\"tolGrad\"] = 10e-5\n",
    "p[\"tolIter\"] = 10e-6\n",
    "p[\"alpha\"] = 10e-5"
   ]
  },
  {
   "cell_type": "code",
   "execution_count": 73,
   "metadata": {
    "collapsed": false
   },
   "outputs": [],
   "source": [
    "class MinAlgorithm:\n",
    "    \n",
    "    def __init__(self, f, grad=None, hess=None):\n",
    "        self.func = f\n",
    "        self.grad = grad if grad else ndt.Gradient(f)\n",
    "        self.hess = hess if hess else ndt.Hessian(f)\n",
    "        \n",
    "    def minimize(self, starting_point, params):\n",
    "        raise NotImplementedError()\n",
    "        \n",
    "    @classmethod\n",
    "    def run_test_suites(cls, init_func=lambda x: x, params=p, runs=10):\n",
    "        result_dict = {}\n",
    "        for name, pair in functions.items():\n",
    "            minimizer = cls(pair.f)\n",
    "            init_func(minimizer)\n",
    "            steps = []\n",
    "            run_times = []\n",
    "            approx = []\n",
    "            for i in range(runs):\n",
    "                start_point = np.random.randint(1, 100) * (np.random.rand(2, 1) - .5)\n",
    "                before = dt.now()\n",
    "                minimizer.minimize(start_point.reshape((-1, 1)), params)\n",
    "                after = dt.now()\n",
    "                steps.append(minimizer.steps)\n",
    "                run_times.append((after - before).total_seconds())\n",
    "                approx.append((minimizer.func(minimizer.solution) - pair.min_val) ** 2)\n",
    "            result_dict[name] = {\n",
    "                'time': (np.min(run_times), np.max(run_times), np.average(run_times)),\n",
    "                'avg_steps': (np.min(steps), np.max(steps), np.average(steps)),\n",
    "                'squared_error': (np.min(approx), np.max(approx), np.average(approx))\n",
    "            }\n",
    "        print(result_dict)\n",
    "        return result_dict"
   ]
  },
  {
   "cell_type": "code",
   "execution_count": 6,
   "metadata": {
    "collapsed": false
   },
   "outputs": [
    {
     "data": {
      "text/plain": [
       "Result(x=0.052024589747497844)"
      ]
     },
     "execution_count": 6,
     "metadata": {},
     "output_type": "execute_result"
    }
   ],
   "source": [
    "OptResult = namedtuple('Result', ['x']) \n",
    "def ternary_search(f, interval, eps=10e-3):\n",
    "    max_iter = 10\n",
    "    steps = 0\n",
    "    left, right = interval\n",
    "    while steps < max_iter and np.abs(right - left) > eps:\n",
    "        steps += 1\n",
    "        mid_left = left + (right - left) / 3\n",
    "        mid_right = right - (right - left) / 3\n",
    "        if f(mid_left) < f(mid_right):\n",
    "            right = mid_right\n",
    "        else:\n",
    "            left = mid_left\n",
    "    return OptResult((right - left) / 2)\n",
    "\n",
    "f = lambda x: x ** 2\n",
    "ternary_search(f, (-3, 3))"
   ]
  },
  {
   "cell_type": "code",
   "execution_count": 7,
   "metadata": {
    "collapsed": false
   },
   "outputs": [],
   "source": [
    "class SteepestDescent(MinAlgorithm):\n",
    "    \n",
    "    def set_line_search(self, name):\n",
    "        if name == \"fminsearch\":\n",
    "            self.line_search = lambda f, interval, eps: minimize_scalar(f, method=\"brent\")\n",
    "        elif name == \"paso_limitado\":\n",
    "            self.line_search = None\n",
    "        elif name == \"orden_cero\":\n",
    "            self.line_search = lambda f, interval, eps: ternary_search(f, interval, eps)\n",
    "        elif name == \"armijo\":\n",
    "            self.line_search = 'armijo'\n",
    "        else:\n",
    "            raise Exception(\"El metodo de busqueda {} no existe\".format(name))\n",
    "        self.name = name\n",
    "            \n",
    "    def line_minimize(self, g, interval, eps=10e-3):\n",
    "        res = self.line_search(g, interval, eps)\n",
    "        return res.x\n",
    "        \n",
    "    def minimize(self, starting_point, params):\n",
    "        assert getattr(self, \"line_search\", None)\n",
    "        point, old_point = starting_point, starting_point + 1\n",
    "        steps = 0\n",
    "        grad = self.grad(point).reshape((-1, 1))\n",
    "        d = -grad\n",
    "        result = 100\n",
    "        while steps < params[\"MaxNumIter\"] and result > params[\"tolGrad\"]\\\n",
    "                    and np.linalg.norm(point - old_point) > params[\"tolIter\"]:\n",
    "            steps += 1\n",
    "            phi = lambda alpha: self.func((point + alpha * d))\n",
    "            if self.name != 'armijo':\n",
    "                min_alpha = self.line_minimize(phi, (-3, 3), params[\"alpha\"])\n",
    "            else:\n",
    "                epsilon = params['alpha']\n",
    "                eta = params['beta']\n",
    "                min_alpha = np.random.rand()\n",
    "                while True:\n",
    "                    top = self.func(point) + epsilon * grad.T.dot(d) * min_alpha\n",
    "                    bottom = self.func(point) + epsilon * grad.T.dot(d) * eta * min_alpha\n",
    "                    if phi(min_alpha) > top:\n",
    "                        min_alpha /= eta\n",
    "                    elif phi(eta * min_alpha) <= bottom:\n",
    "                        min_alpha *= eta\n",
    "                    else:\n",
    "                        break\n",
    "            old_point = point\n",
    "            point = point + min_alpha * d\n",
    "            grad = self.grad(point).reshape((-1, 1))\n",
    "            d = -grad\n",
    "            result = np.linalg.norm(d)\n",
    "        self.steps = steps\n",
    "        self.solution = point\n",
    "        return point"
   ]
  },
  {
   "cell_type": "code",
   "execution_count": 8,
   "metadata": {
    "collapsed": false
   },
   "outputs": [],
   "source": [
    "class QuadraticCongujateGradients(MinAlgorithm):\n",
    "    \n",
    "    def __init__(self, Q, b):\n",
    "        self.Q = Q\n",
    "        self.b = b\n",
    "        self.g = lambda x: self.Q.dot(np.matrix(x)) + self.b\n",
    "    \n",
    "    def quadratic_minimize(self, starting_point, params):\n",
    "        point, old_point = starting_point, starting_point + 1\n",
    "        steps = 0\n",
    "        d = - self.g(point)\n",
    "        result = 100\n",
    "        while steps < params[\"MaxNumIter\"] and result > params[\"tolGrad\"]\\\n",
    "                and np.linalg.norm(point - old_point) > params[\"tolIter\"]:\n",
    "            steps += 1\n",
    "            alpha = - float((self.g(point).T.dot(d)) / d.T.dot(self.Q.dot(d)))\n",
    "            old_point = point\n",
    "            point = point + alpha * d\n",
    "            new_grad = self.g(point)\n",
    "            beta = float((new_grad.T.dot(self.Q.dot(d))) / d.T.dot(self.Q.dot(d)))\n",
    "            d = -new_grad + beta * d\n",
    "            result = np.linalg.norm(new_grad)\n",
    "            print(result)\n",
    "        self.steps = steps\n",
    "        self.solution = point\n",
    "        return point"
   ]
  },
  {
   "cell_type": "code",
   "execution_count": 66,
   "metadata": {
    "collapsed": false
   },
   "outputs": [
    {
     "name": "stdout",
     "output_type": "stream",
     "text": [
      "512505.766256\n",
      "84339.2177369\n",
      "24526.7027657\n",
      "9225.61062231\n",
      "4048.7503179\n",
      "2017.86079286\n",
      "1121.26577654\n",
      "950.701018401\n",
      "752.36763984\n",
      "354.252445891\n",
      "202.13045821\n",
      "121.529895917\n",
      "156.520273158\n",
      "80.0701915568\n",
      "49.5430558412\n",
      "151.017719384\n",
      "25.8904704547\n",
      "25.4830462273\n",
      "23.5151148771\n",
      "8.61539332228\n",
      "4.79557301045\n",
      "77.0569035593\n",
      "3.25663009678\n",
      "5.48222417283\n",
      "4.35574437097\n",
      "1.74181847258\n",
      "0.859217950749\n",
      "0.97535864348\n",
      "1.57018171858\n",
      "0.515004180347\n",
      "0.245366689077\n",
      "0.838414652737\n",
      "0.237923332486\n",
      "0.142424517178\n",
      "2.32201334627\n",
      "0.114084391894\n",
      "0.068361312924\n",
      "0.0712551793518\n",
      "0.021709459441\n",
      "0.0649066692232\n",
      "0.0143324731511\n",
      "0.00728502855956\n"
     ]
    }
   ],
   "source": [
    "dim = 50\n",
    "L = np.tril(np.random.rand(dim, dim) + 10)\n",
    "Q = L.dot(L.T)\n",
    "b = np.random.rand(dim, 1)\n",
    "quad_min = QuadraticCongujateGradients(Q, b)\n",
    "result = quad_min.quadratic_minimize(np.random.rand(dim, 1) + 20, p)"
   ]
  },
  {
   "cell_type": "code",
   "execution_count": 9,
   "metadata": {
    "collapsed": true
   },
   "outputs": [],
   "source": [
    "class RestartCongujateGradients(MinAlgorithm):\n",
    "    \n",
    "    def minimize(self, starting_point, params):\n",
    "        point, old_point = starting_point, starting_point + 1\n",
    "        steps = 0\n",
    "        grad = self.grad(point).reshape((-1, 1))\n",
    "        d = - grad\n",
    "        result = 100\n",
    "        n = len(starting_point)\n",
    "        while steps < params[\"MaxNumIter\"] and result > params[\"tolGrad\"]\\\n",
    "                and np.linalg.norm(point - old_point) > params[\"tolIter\"]:\n",
    "            steps += 1\n",
    "            res = minimize_scalar(lambda alpha: self.func(point + alpha * d), method=\"brent\")\n",
    "            alpha = res.x\n",
    "            old_point = point\n",
    "            point = point + alpha * d\n",
    "            old_grad = grad\n",
    "            grad = self.grad(point).reshape((-1, 1))\n",
    "            if steps % n > 0:\n",
    "                beta = float(((grad - old_grad).T.dot(grad)) / old_grad.T.dot(old_grad))\n",
    "                d = -grad + beta * d\n",
    "            else:\n",
    "                d = -grad\n",
    "            result = np.linalg.norm(d)\n",
    "        self.steps = steps\n",
    "        self.solution = point\n",
    "        return point"
   ]
  },
  {
   "cell_type": "code",
   "execution_count": 74,
   "metadata": {
    "collapsed": true
   },
   "outputs": [],
   "source": [
    "class GlobalConvergenceNewtonMethod(MinAlgorithm):\n",
    "    \n",
    "    def minimize(self, starting_point, params):\n",
    "        point, old_point = starting_point, starting_point + 1\n",
    "        steps = 0\n",
    "        result = 100\n",
    "        Id = np.eye(len(point))\n",
    "        modified_hess = lambda mu: np.matrix((mu * Id) + hess)\n",
    "        while steps < params[\"MaxNumIter\"] and result > params[\"tolGrad\"]\\\n",
    "                and np.linalg.norm(point - old_point) > params[\"tolIter\"]:\n",
    "            steps += 1\n",
    "            grad = self.grad(point).reshape((-1, 1))\n",
    "            hess = self.hess(point.flatten())\n",
    "            mu = 0\n",
    "            arranque = True\n",
    "            while arranque:\n",
    "                new_hess = modified_hess(mu)\n",
    "                try:\n",
    "                    L = np.linalg.cholesky(new_hess)\n",
    "                    y = solve_triangular(L, grad)\n",
    "                    d = -solve_triangular(L.H, y)\n",
    "                    arranque = False\n",
    "                except np.linalg.LinAlgError:\n",
    "                    mu = 10 * mu if mu > 0 else 1\n",
    "            phi = lambda alpha: self.func((point + alpha * d))\n",
    "            res = minimize_scalar(phi, method='brent')\n",
    "            min_alpha = res.x\n",
    "            old_point = point\n",
    "            point = point + min_alpha * d\n",
    "            result = np.linalg.norm(grad)\n",
    "        self.steps = steps\n",
    "        self.solution = point\n",
    "        return point"
   ]
  },
  {
   "cell_type": "code",
   "execution_count": 75,
   "metadata": {
    "collapsed": false
   },
   "outputs": [
    {
     "name": "stdout",
     "output_type": "stream",
     "text": [
      "{'paraboloid': {'time': (0.014437, 0.020778999999999999, 0.017735800000000003), 'avg_steps': (2, 2, 2.0), 'squared_error': (0.0, 2.6625244848471646e-110, 2.8296729625226754e-111)}, 'easom': {'time': (0.0092659999999999999, 0.035955000000000001, 0.013925199999999999), 'avg_steps': (1, 4, 1.3999999999999999), 'squared_error': (0.0, 1.0, 0.89999999999890457)}, 'ackleys': {'time': (0.051555999999999998, 0.077322000000000002, 0.066997000000000001), 'avg_steps': (4, 5, 4.2999999999999998), 'squared_error': (2.5106728931670845e-22, 395.09441584736487, 141.85680564124343)}, 'rosenbrock': {'time': (0.40304600000000002, 0.95855599999999996, 0.61260710000000007), 'avg_steps': (36, 86, 52.899999999999999), 'squared_error': (0.045026148128548819, 0.35602469064200465, 0.22315562764287442)}, 'matyas': {'time': (0.127051, 0.150195, 0.14105519999999999), 'avg_steps': (12, 13, 12.699999999999999), 'squared_error': (1.0844544033867869, 222753.88108723052, 56276.37936514341)}, 'beales': {'time': (0.105645, 0.74533000000000005, 0.44416060000000002), 'avg_steps': (9, 61, 37.399999999999999), 'squared_error': (0.00012337479597527583, 1.5524357269794402, 0.29004277189986022)}, 'booth': {'time': (0.11811199999999999, 0.213008, 0.16912099999999997), 'avg_steps': (11, 20, 16.100000000000001), 'squared_error': (4.4914623672126818e-27, 6.9578218746958592e-19, 1.8383920215783191e-19)}}\n"
     ]
    },
    {
     "data": {
      "text/plain": [
       "{'ackleys': {'avg_steps': (4, 5, 4.2999999999999998),\n",
       "  'squared_error': (2.5106728931670845e-22,\n",
       "   395.09441584736487,\n",
       "   141.85680564124343),\n",
       "  'time': (0.051555999999999998, 0.077322000000000002, 0.066997000000000001)},\n",
       " 'beales': {'avg_steps': (9, 61, 37.399999999999999),\n",
       "  'squared_error': (0.00012337479597527583,\n",
       "   1.5524357269794402,\n",
       "   0.29004277189986022),\n",
       "  'time': (0.105645, 0.74533000000000005, 0.44416060000000002)},\n",
       " 'booth': {'avg_steps': (11, 20, 16.100000000000001),\n",
       "  'squared_error': (4.4914623672126818e-27,\n",
       "   6.9578218746958592e-19,\n",
       "   1.8383920215783191e-19),\n",
       "  'time': (0.11811199999999999, 0.213008, 0.16912099999999997)},\n",
       " 'easom': {'avg_steps': (1, 4, 1.3999999999999999),\n",
       "  'squared_error': (0.0, 1.0, 0.89999999999890457),\n",
       "  'time': (0.0092659999999999999, 0.035955000000000001, 0.013925199999999999)},\n",
       " 'matyas': {'avg_steps': (12, 13, 12.699999999999999),\n",
       "  'squared_error': (1.0844544033867869, 222753.88108723052, 56276.37936514341),\n",
       "  'time': (0.127051, 0.150195, 0.14105519999999999)},\n",
       " 'paraboloid': {'avg_steps': (2, 2, 2.0),\n",
       "  'squared_error': (0.0, 2.6625244848471646e-110, 2.8296729625226754e-111),\n",
       "  'time': (0.014437, 0.020778999999999999, 0.017735800000000003)},\n",
       " 'rosenbrock': {'avg_steps': (36, 86, 52.899999999999999),\n",
       "  'squared_error': (0.045026148128548819,\n",
       "   0.35602469064200465,\n",
       "   0.22315562764287442),\n",
       "  'time': (0.40304600000000002, 0.95855599999999996, 0.61260710000000007)}}"
      ]
     },
     "execution_count": 75,
     "metadata": {},
     "output_type": "execute_result"
    }
   ],
   "source": [
    "GlobalConvergenceNewtonMethod.run_test_suites(runs=10)"
   ]
  },
  {
   "cell_type": "code",
   "execution_count": 10,
   "metadata": {
    "collapsed": false
   },
   "outputs": [
    {
     "name": "stderr",
     "output_type": "stream",
     "text": [
      "/usr/local/lib/python3.5/site-packages/scipy/linalg/basic.py:1018: RuntimeWarning: internal gelsd driver lwork query error, required iwork dimension not returned. This is likely the result of LAPACK bug 0038, fixed in LAPACK 3.2.2 (released July 21, 2010). Falling back to 'gelss' driver.\n",
      "  warnings.warn(mesg, RuntimeWarning)\n",
      "/usr/local/lib/python3.5/site-packages/ipykernel/__main__.py:19: RuntimeWarning: invalid value encountered in true_divide\n",
      "/usr/local/lib/python3.5/site-packages/ipykernel/__main__.py:19: RuntimeWarning: invalid value encountered in true_divide\n",
      "/usr/local/lib/python3.5/site-packages/ipykernel/__main__.py:19: RuntimeWarning: invalid value encountered in true_divide\n",
      "/usr/local/lib/python3.5/site-packages/ipykernel/__main__.py:19: RuntimeWarning: invalid value encountered in true_divide\n",
      "/usr/local/lib/python3.5/site-packages/ipykernel/__main__.py:19: RuntimeWarning: invalid value encountered in true_divide\n",
      "/usr/local/lib/python3.5/site-packages/ipykernel/__main__.py:19: RuntimeWarning: invalid value encountered in true_divide\n",
      "/usr/local/lib/python3.5/site-packages/ipykernel/__main__.py:19: RuntimeWarning: invalid value encountered in true_divide\n"
     ]
    },
    {
     "name": "stdout",
     "output_type": "stream",
     "text": [
      "{'paraboloid': {'time': (0.006071, 0.031607000000000003, 0.0089343499999999989), 'avg_steps': (1, 1, 1.0), 'squared_error': (2.4308653429145085e-63, 9.7469570282173448e-48, 4.8751730823171833e-49)}, 'easom': {'time': (0.007744, 0.033447999999999999, 0.01208685), 'avg_steps': (1, 5, 1.55), 'squared_error': (0.0, 1.0, 0.85044356436199231)}, 'ackleys': {'time': (0.025739999999999999, 0.092252000000000001, 0.051411750000000013), 'avg_steps': (3, 11, 6.0), 'squared_error': (7.5058789340587523e-21, 399.32138709359549, 139.96986093879201)}, 'rosenbrock': {'time': (0.031526999999999999, 0.356487, 0.12826535), 'avg_steps': (5, 58, 22.649999999999999), 'squared_error': (4.5937188959752823e-30, 4.5658374821303532e-13, 2.2837959235398611e-14)}, 'matyas': {'time': (0.012012999999999999, 0.013232000000000001, 0.012491800000000001), 'avg_steps': (2, 2, 2.0), 'squared_error': (3.3382623248902707e-58, 1.4102633425917444e-27, 8.4887300943506024e-29)}, 'beales': {'time': (0.017361000000000001, 0.52829300000000001, 0.1218011), 'avg_steps': (2, 83, 19.399999999999999), 'squared_error': (2.7889346112279576e-24, 0.30937726193092291, 0.099271950416072507)}, 'booth': {'time': (0.011682, 0.021583000000000001, 0.0138718), 'avg_steps': (2, 2, 2.0), 'squared_error': (1.5557538194652854e-59, 9.3877368698082234e-27, 4.7073957804806746e-28)}}\n"
     ]
    },
    {
     "data": {
      "text/plain": [
       "{'ackleys': {'avg_steps': (3, 11, 6.0),\n",
       "  'squared_error': (7.5058789340587523e-21,\n",
       "   399.32138709359549,\n",
       "   139.96986093879201),\n",
       "  'time': (0.025739999999999999, 0.092252000000000001, 0.051411750000000013)},\n",
       " 'beales': {'avg_steps': (2, 83, 19.399999999999999),\n",
       "  'squared_error': (2.7889346112279576e-24,\n",
       "   0.30937726193092291,\n",
       "   0.099271950416072507),\n",
       "  'time': (0.017361000000000001, 0.52829300000000001, 0.1218011)},\n",
       " 'booth': {'avg_steps': (2, 2, 2.0),\n",
       "  'squared_error': (1.5557538194652854e-59,\n",
       "   9.3877368698082234e-27,\n",
       "   4.7073957804806746e-28),\n",
       "  'time': (0.011682, 0.021583000000000001, 0.0138718)},\n",
       " 'easom': {'avg_steps': (1, 5, 1.55),\n",
       "  'squared_error': (0.0, 1.0, 0.85044356436199231),\n",
       "  'time': (0.007744, 0.033447999999999999, 0.01208685)},\n",
       " 'matyas': {'avg_steps': (2, 2, 2.0),\n",
       "  'squared_error': (3.3382623248902707e-58,\n",
       "   1.4102633425917444e-27,\n",
       "   8.4887300943506024e-29),\n",
       "  'time': (0.012012999999999999, 0.013232000000000001, 0.012491800000000001)},\n",
       " 'paraboloid': {'avg_steps': (1, 1, 1.0),\n",
       "  'squared_error': (2.4308653429145085e-63,\n",
       "   9.7469570282173448e-48,\n",
       "   4.8751730823171833e-49),\n",
       "  'time': (0.006071, 0.031607000000000003, 0.0089343499999999989)},\n",
       " 'rosenbrock': {'avg_steps': (5, 58, 22.649999999999999),\n",
       "  'squared_error': (4.5937188959752823e-30,\n",
       "   4.5658374821303532e-13,\n",
       "   2.2837959235398611e-14),\n",
       "  'time': (0.031526999999999999, 0.356487, 0.12826535)}}"
      ]
     },
     "execution_count": 10,
     "metadata": {},
     "output_type": "execute_result"
    }
   ],
   "source": [
    "RestartCongujateGradients.run_test_suites(runs=20)"
   ]
  },
  {
   "cell_type": "code",
   "execution_count": 63,
   "metadata": {
    "collapsed": false
   },
   "outputs": [
    {
     "name": "stderr",
     "output_type": "stream",
     "text": [
      "/usr/local/lib/python3.5/site-packages/ipykernel/__main__.py:29: RuntimeWarning: invalid value encountered in multiply\n",
      "/usr/local/lib/python3.5/site-packages/ipykernel/__main__.py:29: RuntimeWarning: invalid value encountered in multiply\n",
      "/usr/local/lib/python3.5/site-packages/ipykernel/__main__.py:29: RuntimeWarning: invalid value encountered in multiply\n",
      "/usr/local/lib/python3.5/site-packages/ipykernel/__main__.py:10: RuntimeWarning: invalid value encountered in cos\n",
      "/usr/local/lib/python3.5/site-packages/ipykernel/__main__.py:29: RuntimeWarning: invalid value encountered in multiply\n",
      "/usr/local/lib/python3.5/site-packages/ipykernel/__main__.py:29: RuntimeWarning: invalid value encountered in multiply\n",
      "/usr/local/lib/python3.5/site-packages/ipykernel/__main__.py:29: RuntimeWarning: invalid value encountered in multiply\n",
      "/usr/local/lib/python3.5/site-packages/ipykernel/__main__.py:10: RuntimeWarning: invalid value encountered in cos\n"
     ]
    },
    {
     "name": "stdout",
     "output_type": "stream",
     "text": [
      "{'paraboloid': {'squared_error': (8.2852777821528722e-20, 6.1452651018690685e-18, 2.1564928829580641e-18), 'avg_steps': (4, 9, 6.5999999999999996), 'time': (0.01831, 0.048481999999999997, 0.030047899999999999)}, 'easom': {'squared_error': (1.0, 1.0, 1.0), 'avg_steps': (1, 1, 1.0), 'time': (0.043388999999999997, 0.11862, 0.098422699999999988)}, 'booth': {'squared_error': (2.4673313934622814e-21, 3.2341836977591995e-18, 4.4263097006020543e-19), 'avg_steps': (21, 41, 29.699999999999999), 'time': (0.101497, 0.20441500000000001, 0.15076829999999999)}, 'ackleys': {'squared_error': (6.3017620076565991e-06, 399.99996374080604, 309.26114533273596), 'avg_steps': (9, 1000, 597.29999999999995), 'time': (0.066070000000000004, 6.4966619999999997, 3.7960766000000006)}, 'matyas': {'squared_error': (2.7246684083449153e-19, 1.0155455901487475e-14, 3.1958720800158265e-15), 'avg_steps': (24, 62, 42.799999999999997), 'time': (0.14014399999999999, 0.331038, 0.23823729999999999)}, 'rosenbrock': {'squared_error': (2.1855753322578859e-13, 2385.2756669016217, 594.3387457424509), 'avg_steps': (702, 1000, 970.20000000000005), 'time': (4.2531869999999996, 6.761628, 6.0802029999999991)}, 'beales': {'squared_error': (8.976309805612612e-17, 46.886469884859117, 9.1813639578883262), 'avg_steps': (7, 1000, 163.19999999999999), 'time': (0.067169999999999994, 6.0364699999999996, 0.98431920000000006)}}\n"
     ]
    },
    {
     "data": {
      "text/plain": [
       "{'ackleys': {'avg_steps': (9, 1000, 597.29999999999995),\n",
       "  'squared_error': (6.3017620076565991e-06,\n",
       "   399.99996374080604,\n",
       "   309.26114533273596),\n",
       "  'time': (0.066070000000000004, 6.4966619999999997, 3.7960766000000006)},\n",
       " 'beales': {'avg_steps': (7, 1000, 163.19999999999999),\n",
       "  'squared_error': (8.976309805612612e-17,\n",
       "   46.886469884859117,\n",
       "   9.1813639578883262),\n",
       "  'time': (0.067169999999999994, 6.0364699999999996, 0.98431920000000006)},\n",
       " 'booth': {'avg_steps': (21, 41, 29.699999999999999),\n",
       "  'squared_error': (2.4673313934622814e-21,\n",
       "   3.2341836977591995e-18,\n",
       "   4.4263097006020543e-19),\n",
       "  'time': (0.101497, 0.20441500000000001, 0.15076829999999999)},\n",
       " 'easom': {'avg_steps': (1, 1, 1.0),\n",
       "  'squared_error': (1.0, 1.0, 1.0),\n",
       "  'time': (0.043388999999999997, 0.11862, 0.098422699999999988)},\n",
       " 'matyas': {'avg_steps': (24, 62, 42.799999999999997),\n",
       "  'squared_error': (2.7246684083449153e-19,\n",
       "   1.0155455901487475e-14,\n",
       "   3.1958720800158265e-15),\n",
       "  'time': (0.14014399999999999, 0.331038, 0.23823729999999999)},\n",
       " 'paraboloid': {'avg_steps': (4, 9, 6.5999999999999996),\n",
       "  'squared_error': (8.2852777821528722e-20,\n",
       "   6.1452651018690685e-18,\n",
       "   2.1564928829580641e-18),\n",
       "  'time': (0.01831, 0.048481999999999997, 0.030047899999999999)},\n",
       " 'rosenbrock': {'avg_steps': (702, 1000, 970.20000000000005),\n",
       "  'squared_error': (2.1855753322578859e-13,\n",
       "   2385.2756669016217,\n",
       "   594.3387457424509),\n",
       "  'time': (4.2531869999999996, 6.761628, 6.0802029999999991)}}"
      ]
     },
     "execution_count": 63,
     "metadata": {},
     "output_type": "execute_result"
    }
   ],
   "source": [
    "p['alpha'] = .2\n",
    "p['beta'] = 2\n",
    "SteepestDescent.run_test_suites(lambda x: x.set_line_search('armijo'), runs=10, params=p)"
   ]
  },
  {
   "cell_type": "code",
   "execution_count": null,
   "metadata": {
    "collapsed": true
   },
   "outputs": [],
   "source": []
  }
 ],
 "metadata": {
  "kernelspec": {
   "display_name": "Python 3",
   "language": "python",
   "name": "python3"
  },
  "language_info": {
   "codemirror_mode": {
    "name": "ipython",
    "version": 3
   },
   "file_extension": ".py",
   "mimetype": "text/x-python",
   "name": "python",
   "nbconvert_exporter": "python",
   "pygments_lexer": "ipython3",
   "version": "3.5.1"
  }
 },
 "nbformat": 4,
 "nbformat_minor": 2
}
